{
 "cells": [
  {
   "cell_type": "code",
   "execution_count": 3,
   "metadata": {},
   "outputs": [],
   "source": [
    "import random"
   ]
  },
  {
   "cell_type": "code",
   "execution_count": 9,
   "metadata": {},
   "outputs": [],
   "source": [
    "cartas = {'2' : 2, '3' : 3, '4' : 4, '5' : 5, '6' : 6,'7' : 7,\n",
    "          '8' : 8, '9' : 9, '10' : 10, 'J' : 10, 'Q' : 10, 'K' : 10, 'A' : 11}\n",
    "\n",
    "baraja = list(cartas.keys()) * 4"
   ]
  },
  {
   "cell_type": "code",
   "execution_count": 5,
   "metadata": {},
   "outputs": [],
   "source": [
    "def repartir_carta():\n",
    "    return random.choice(baraja)"
   ]
  },
  {
   "cell_type": "code",
   "execution_count": 6,
   "metadata": {},
   "outputs": [],
   "source": [
    "def calcular_puntaje(mano):\n",
    "    total = sum(cartas[carta] for carta in mano)\n",
    "    ases = mano.count('A')\n",
    "\n",
    "    while total > 21 and ases > 0:\n",
    "        total -= 10\n",
    "        ases -= 1  \n",
    "\n",
    "    return total"
   ]
  },
  {
   "cell_type": "code",
   "execution_count": 15,
   "metadata": {},
   "outputs": [],
   "source": [
    "def jugar_blackjack():\n",
    "    puntos_jugador = 0\n",
    "    jugador = [repartir_carta(), repartir_carta()]\n",
    "    crupier = [repartir_carta(), repartir_carta()]\n",
    "\n",
    "    print(f\"Tu mano: {jugador} (Puntos: {calcular_puntaje(jugador)})\")\n",
    "    print(f\"Carta del crupier: {crupier[0]}\")\n",
    "\n",
    "    while calcular_puntaje(jugador) < 21:\n",
    "        accion = input(\"¿Quieres otra carta? (s/n): \").lower()\n",
    "        if accion == 's':\n",
    "            jugador.append(repartir_carta())\n",
    "            print(f\"Tu mano: {jugador} (Puntos: {calcular_puntaje(jugador)})\")\n",
    "        else:\n",
    "            break\n",
    " \n",
    "    puntos_jugador = calcular_puntaje(jugador)\n",
    "    if puntos_jugador > 21:\n",
    "        print(\"Te pasaste de 21, pierdes.\")\n",
    "        return\n",
    "\n",
    "    print(f\"Mano del crupier: {crupier} (Puntos: {calcular_puntaje(crupier)})\")\n",
    "    while calcular_puntaje(crupier) < 17:\n",
    "        crupier.append(repartir_carta())\n",
    "        print(f\"Crupier toma una carta: {crupier} (Puntos: {calcular_puntaje(crupier)})\")\n",
    "\n",
    "        puntos_jugador = calcular_puntaje(jugador)\n",
    "    puntos_crupier = calcular_puntaje(crupier)\n",
    "\n",
    "    if puntos_crupier > 21 or puntos_jugador > puntos_crupier:\n",
    "        print(\"¡Ganaste!\")\n",
    "    elif puntos_jugador < puntos_crupier:\n",
    "        print(\"Perdiste, gana el crupier.\")\n",
    "    else:\n",
    "        print(\"Empate.\")\n"
   ]
  },
  {
   "cell_type": "code",
   "execution_count": 20,
   "metadata": {},
   "outputs": [
    {
     "name": "stdout",
     "output_type": "stream",
     "text": [
      "Tu mano: ['5', '8'] (Puntos: 13)\n",
      "Carta del crupier: 6\n",
      "Tu mano: ['5', '8', '8'] (Puntos: 21)\n",
      "Mano del crupier: ['6', '10'] (Puntos: 16)\n",
      "Crupier toma una carta: ['6', '10', '6'] (Puntos: 22)\n",
      "¡Ganaste!\n"
     ]
    }
   ],
   "source": [
    "jugar_blackjack()"
   ]
  }
 ],
 "metadata": {
  "kernelspec": {
   "display_name": "Python 3",
   "language": "python",
   "name": "python3"
  },
  "language_info": {
   "codemirror_mode": {
    "name": "ipython",
    "version": 3
   },
   "file_extension": ".py",
   "mimetype": "text/x-python",
   "name": "python",
   "nbconvert_exporter": "python",
   "pygments_lexer": "ipython3",
   "version": "3.13.2"
  }
 },
 "nbformat": 4,
 "nbformat_minor": 2
}
